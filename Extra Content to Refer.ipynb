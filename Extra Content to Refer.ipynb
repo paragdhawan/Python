{
 "cells": [
  {
   "cell_type": "markdown",
   "id": "0b79cf45",
   "metadata": {},
   "source": [
    "[Python Practical list with solutions](https://www.youtube.com/playlist?list=PLWkNktG0P7z9KOAnL8piES0jb25ZuU4cW)"
   ]
  },
  {
   "cell_type": "markdown",
   "id": "1062a8b9",
   "metadata": {},
   "source": [
    "[Python Assigment Questions](https://www.youtube.com/playlist?list=PLWkNktG0P7z9sRRitFMAdkKMutekF7k1M)"
   ]
  },
  {
   "cell_type": "markdown",
   "id": "ad8b9180",
   "metadata": {},
   "source": [
    "[Object Oriented Programming Using Python](https://www.youtube.com/playlist?list=PLWkNktG0P7z8NLuyLIeWUn7B1IEcNNq_T)"
   ]
  },
  {
   "cell_type": "markdown",
   "id": "bb2fe6e1",
   "metadata": {},
   "source": [
    "[File handling Using Python](https://www.youtube.com/playlist?list=PLWkNktG0P7z_k1LkcLHJc3sE34pT8-Efu)"
   ]
  },
  {
   "cell_type": "markdown",
   "id": "65983b5f",
   "metadata": {},
   "source": [
    "[Exception Handling Using Python](https://www.youtube.com/playlist?list=PLWkNktG0P7z9LegCxgt80mn4jMOsAGlH5)"
   ]
  }
 ],
 "metadata": {
  "kernelspec": {
   "display_name": "Python 3",
   "language": "python",
   "name": "python3"
  },
  "language_info": {
   "codemirror_mode": {
    "name": "ipython",
    "version": 3
   },
   "file_extension": ".py",
   "mimetype": "text/x-python",
   "name": "python",
   "nbconvert_exporter": "python",
   "pygments_lexer": "ipython3",
   "version": "3.8.8"
  }
 },
 "nbformat": 4,
 "nbformat_minor": 5
}
