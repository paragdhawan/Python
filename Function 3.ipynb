{
 "cells": [
  {
   "cell_type": "markdown",
   "id": "810c0eca",
   "metadata": {},
   "source": [
    "# SCOPE"
   ]
  },
  {
   "cell_type": "code",
   "execution_count": null,
   "id": "9d128b89",
   "metadata": {},
   "outputs": [],
   "source": [
    "#local\n",
    "\n",
    "x = 20\n",
    "\n",
    "def func():\n",
    "    x = 30\n",
    "    \n",
    "func()\n",
    "\n",
    "print(x)"
   ]
  },
  {
   "cell_type": "code",
   "execution_count": null,
   "id": "12524066",
   "metadata": {},
   "outputs": [],
   "source": [
    "#global\n",
    "x = 20\n",
    "\n",
    "def func():\n",
    "    global x\n",
    "    x = 30\n",
    "    \n",
    "func()\n",
    "\n",
    "print(x)"
   ]
  },
  {
   "cell_type": "code",
   "execution_count": null,
   "id": "8f6f865f",
   "metadata": {},
   "outputs": [],
   "source": [
    "def func1():\n",
    "    x=50\n",
    "    print(x)\n",
    "    \n",
    "    def func2():\n",
    "        x=100\n",
    "    \n",
    "    func2()\n",
    "    print(x)"
   ]
  },
  {
   "cell_type": "code",
   "execution_count": null,
   "id": "a8e2f904",
   "metadata": {},
   "outputs": [],
   "source": [
    "func1()"
   ]
  },
  {
   "cell_type": "code",
   "execution_count": null,
   "id": "5a7fd140",
   "metadata": {},
   "outputs": [],
   "source": [
    "def func1():\n",
    "    x=50\n",
    "    print(x)\n",
    "    \n",
    "    def func2():\n",
    "        nonlocal x\n",
    "        x=100\n",
    "    \n",
    "    func2()\n",
    "    print(x)"
   ]
  },
  {
   "cell_type": "code",
   "execution_count": null,
   "id": "ff578514",
   "metadata": {},
   "outputs": [],
   "source": [
    "func1()"
   ]
  },
  {
   "cell_type": "markdown",
   "id": "ead5a373",
   "metadata": {},
   "source": [
    "# Blocks and Suits"
   ]
  },
  {
   "cell_type": "code",
   "execution_count": null,
   "id": "2abb6bdf",
   "metadata": {},
   "outputs": [],
   "source": [
    "i = 10\n",
    "if True :\n",
    "    i = 20\n",
    "print(i)"
   ]
  },
  {
   "cell_type": "code",
   "execution_count": null,
   "id": "0c00005f",
   "metadata": {},
   "outputs": [],
   "source": [
    "i =10\n",
    "def func3():\n",
    "    if True:\n",
    "        i=20\n",
    "        \n",
    "func3()\n",
    "print(i)"
   ]
  },
  {
   "cell_type": "markdown",
   "id": "80cd3dec",
   "metadata": {},
   "source": [
    "# Shadowing functions"
   ]
  },
  {
   "cell_type": "code",
   "execution_count": null,
   "id": "7bbe5f80",
   "metadata": {},
   "outputs": [],
   "source": [
    "min(10,20,30)"
   ]
  },
  {
   "cell_type": "code",
   "execution_count": null,
   "id": "fbb90b64",
   "metadata": {},
   "outputs": [],
   "source": [
    "min = 20"
   ]
  },
  {
   "cell_type": "code",
   "execution_count": null,
   "id": "c46b1190",
   "metadata": {},
   "outputs": [],
   "source": [
    "print(min)"
   ]
  },
  {
   "cell_type": "code",
   "execution_count": null,
   "id": "cbf253a6",
   "metadata": {},
   "outputs": [],
   "source": [
    "min(10,20,30)"
   ]
  },
  {
   "cell_type": "code",
   "execution_count": null,
   "id": "e9eacec3",
   "metadata": {},
   "outputs": [],
   "source": [
    "sum([10,20,30,40])"
   ]
  },
  {
   "cell_type": "code",
   "execution_count": null,
   "id": "ff3c9a6b",
   "metadata": {},
   "outputs": [],
   "source": [
    "sum = \"python\""
   ]
  },
  {
   "cell_type": "code",
   "execution_count": null,
   "id": "7dc89788",
   "metadata": {},
   "outputs": [],
   "source": [
    "sum"
   ]
  },
  {
   "cell_type": "code",
   "execution_count": null,
   "id": "5ae60a7d",
   "metadata": {},
   "outputs": [],
   "source": [
    "sum([10,20,30,40])"
   ]
  },
  {
   "cell_type": "markdown",
   "id": "e4a05ace",
   "metadata": {},
   "source": [
    "# Pure Functions"
   ]
  },
  {
   "cell_type": "code",
   "execution_count": null,
   "id": "db3250f2",
   "metadata": {},
   "outputs": [],
   "source": [
    "# always produce the same output if argument list is same"
   ]
  },
  {
   "cell_type": "code",
   "execution_count": 3,
   "id": "f7ab8094",
   "metadata": {},
   "outputs": [
    {
     "data": {
      "text/plain": [
       "6"
      ]
     },
     "execution_count": 3,
     "metadata": {},
     "output_type": "execute_result"
    }
   ],
   "source": [
    "sum([1,2,3])"
   ]
  },
  {
   "cell_type": "code",
   "execution_count": 6,
   "id": "cadf0777",
   "metadata": {},
   "outputs": [
    {
     "data": {
      "text/plain": [
       "10"
      ]
     },
     "execution_count": 6,
     "metadata": {},
     "output_type": "execute_result"
    }
   ],
   "source": [
    "min(10,20,30)"
   ]
  },
  {
   "cell_type": "markdown",
   "id": "65d7f12a",
   "metadata": {},
   "source": [
    "# Pass of object reference"
   ]
  },
  {
   "cell_type": "code",
   "execution_count": 9,
   "id": "ea6e3edb",
   "metadata": {},
   "outputs": [],
   "source": [
    "def immutable_data(n):\n",
    "    print(id(n))\n",
    "    n = n + 5\n",
    "    print(id(n))\n",
    "    print(n)"
   ]
  },
  {
   "cell_type": "code",
   "execution_count": 10,
   "id": "ae030aa0",
   "metadata": {},
   "outputs": [
    {
     "name": "stdout",
     "output_type": "stream",
     "text": [
      "10\n",
      "140726704941136\n",
      "140726704941136\n",
      "140726704941296\n",
      "15\n"
     ]
    }
   ],
   "source": [
    "a = 10 \n",
    "print(a)\n",
    "print(id(a))\n",
    "immutable_data(a)\n"
   ]
  },
  {
   "cell_type": "code",
   "execution_count": null,
   "id": "0a4a01f9",
   "metadata": {},
   "outputs": [],
   "source": [
    "def immutable_data(n):\n",
    "    print(id(n))\n",
    "    n = n + 5\n",
    "    print(id(n))\n",
    "    print(n)"
   ]
  },
  {
   "cell_type": "code",
   "execution_count": null,
   "id": "b9586066",
   "metadata": {},
   "outputs": [],
   "source": [
    "a = 10 \n",
    "print(a)\n",
    "print(id(a))\n",
    "immutable_data(a)\n"
   ]
  },
  {
   "cell_type": "code",
   "execution_count": 11,
   "id": "88ad94db",
   "metadata": {},
   "outputs": [],
   "source": [
    "def mutable_data(n):\n",
    "    print(id(n))\n",
    "    n.append(20)\n",
    "    print(id(n))\n",
    "    print(n)"
   ]
  },
  {
   "cell_type": "code",
   "execution_count": 12,
   "id": "857beeaf",
   "metadata": {},
   "outputs": [
    {
     "name": "stdout",
     "output_type": "stream",
     "text": [
      "[10]\n",
      "1933100853184\n",
      "1933100853184\n",
      "1933100853184\n",
      "[10, 20]\n"
     ]
    }
   ],
   "source": [
    "a = [10] \n",
    "print(a)\n",
    "print(id(a))\n",
    "mutable_data(a)"
   ]
  },
  {
   "cell_type": "code",
   "execution_count": 13,
   "id": "78c7dd91",
   "metadata": {},
   "outputs": [
    {
     "name": "stdout",
     "output_type": "stream",
     "text": [
      "[10, 20]\n"
     ]
    }
   ],
   "source": [
    "print(a)"
   ]
  },
  {
   "cell_type": "markdown",
   "id": "43df89ea",
   "metadata": {},
   "source": [
    "# Recursion"
   ]
  },
  {
   "cell_type": "code",
   "execution_count": 14,
   "id": "a1033d89",
   "metadata": {},
   "outputs": [],
   "source": [
    "def factorial(num):\n",
    "    # Base case  , terminating condition\n",
    "    if num <= 1:\n",
    "        return 1\n",
    "    \n",
    "    # recursive condition\n",
    "    return num * factorial(num-1)"
   ]
  },
  {
   "cell_type": "code",
   "execution_count": 15,
   "id": "57ec9f45",
   "metadata": {},
   "outputs": [
    {
     "data": {
      "text/plain": [
       "24"
      ]
     },
     "execution_count": 15,
     "metadata": {},
     "output_type": "execute_result"
    }
   ],
   "source": [
    "factorial(4)"
   ]
  },
  {
   "cell_type": "markdown",
   "id": "f48c1d1c",
   "metadata": {},
   "source": [
    "Adavantages: program is easy to read\n",
    "    \n",
    "Disadvantage: time and memory utilization is more"
   ]
  },
  {
   "cell_type": "code",
   "execution_count": 16,
   "id": "edd25116",
   "metadata": {},
   "outputs": [],
   "source": [
    "def sum(n):\n",
    "    if n==1:\n",
    "        return 1\n",
    "    \n",
    "    return n + sum (n-1)"
   ]
  },
  {
   "cell_type": "code",
   "execution_count": 17,
   "id": "0043d45a",
   "metadata": {},
   "outputs": [
    {
     "data": {
      "text/plain": [
       "55"
      ]
     },
     "execution_count": 17,
     "metadata": {},
     "output_type": "execute_result"
    }
   ],
   "source": [
    "sum(10)"
   ]
  },
  {
   "cell_type": "markdown",
   "id": "d486c422",
   "metadata": {},
   "source": [
    "# Ananomys Function or Lambda Function"
   ]
  },
  {
   "cell_type": "code",
   "execution_count": null,
   "id": "4abc6702",
   "metadata": {},
   "outputs": [],
   "source": [
    "#  sigle expression function \n",
    "# created using lambda keyword there fore lambda Functions"
   ]
  },
  {
   "cell_type": "code",
   "execution_count": 18,
   "id": "2ce6fc32",
   "metadata": {},
   "outputs": [],
   "source": [
    "sum = lambda x,y : x+y"
   ]
  },
  {
   "cell_type": "code",
   "execution_count": 19,
   "id": "a1e967cb",
   "metadata": {},
   "outputs": [
    {
     "data": {
      "text/plain": [
       "30"
      ]
     },
     "execution_count": 19,
     "metadata": {},
     "output_type": "execute_result"
    }
   ],
   "source": [
    "sum(10,20)"
   ]
  },
  {
   "cell_type": "code",
   "execution_count": 20,
   "id": "483fea51",
   "metadata": {},
   "outputs": [
    {
     "data": {
      "text/plain": [
       "200"
      ]
     },
     "execution_count": 20,
     "metadata": {},
     "output_type": "execute_result"
    }
   ],
   "source": [
    "(lambda a,b : a*b)(10,20)"
   ]
  },
  {
   "cell_type": "code",
   "execution_count": null,
   "id": "98a4a5e9",
   "metadata": {},
   "outputs": [],
   "source": [
    "# short and concise sigle expression function for sorting iterable by alternate key"
   ]
  },
  {
   "cell_type": "code",
   "execution_count": 21,
   "id": "e9c92f1f",
   "metadata": {},
   "outputs": [],
   "source": [
    "var = [(1,\"a\"),(0,\"d\"),(3,\"c\"),(2,\"b\")]"
   ]
  },
  {
   "cell_type": "code",
   "execution_count": 23,
   "id": "163615dc",
   "metadata": {},
   "outputs": [
    {
     "data": {
      "text/plain": [
       "[(1, 'a'), (2, 'b'), (3, 'c'), (0, 'd')]"
      ]
     },
     "execution_count": 23,
     "metadata": {},
     "output_type": "execute_result"
    }
   ],
   "source": [
    "sorted(var , key = lambda x:x[1])"
   ]
  },
  {
   "cell_type": "markdown",
   "id": "458c5ecc",
   "metadata": {},
   "source": [
    "# Iteration"
   ]
  },
  {
   "cell_type": "code",
   "execution_count": null,
   "id": "edd19abf",
   "metadata": {},
   "outputs": [],
   "source": [
    "# processing elemets in sequence"
   ]
  },
  {
   "cell_type": "markdown",
   "id": "72db3d76",
   "metadata": {},
   "source": [
    "# Creating Iterator Object"
   ]
  },
  {
   "cell_type": "code",
   "execution_count": null,
   "id": "1e8ce55d",
   "metadata": {},
   "outputs": [],
   "source": [
    "# iterator object contains countable number of elements"
   ]
  },
  {
   "cell_type": "code",
   "execution_count": 24,
   "id": "55c0795e",
   "metadata": {},
   "outputs": [],
   "source": [
    "item = [1,2,3] # [1,2,3] is a iterable container"
   ]
  },
  {
   "cell_type": "code",
   "execution_count": 25,
   "id": "059f053d",
   "metadata": {},
   "outputs": [
    {
     "name": "stdout",
     "output_type": "stream",
     "text": [
      "1\n",
      "2\n",
      "3\n"
     ]
    }
   ],
   "source": [
    "for i in item:\n",
    "    print(i)"
   ]
  },
  {
   "cell_type": "code",
   "execution_count": 26,
   "id": "e0cdfd8f",
   "metadata": {},
   "outputs": [
    {
     "data": {
      "text/plain": [
       "list"
      ]
     },
     "execution_count": 26,
     "metadata": {},
     "output_type": "execute_result"
    }
   ],
   "source": [
    "type(item)"
   ]
  },
  {
   "cell_type": "code",
   "execution_count": 27,
   "id": "0ec4444e",
   "metadata": {},
   "outputs": [
    {
     "data": {
      "text/plain": [
       "['__add__',\n",
       " '__class__',\n",
       " '__contains__',\n",
       " '__delattr__',\n",
       " '__delitem__',\n",
       " '__dir__',\n",
       " '__doc__',\n",
       " '__eq__',\n",
       " '__format__',\n",
       " '__ge__',\n",
       " '__getattribute__',\n",
       " '__getitem__',\n",
       " '__gt__',\n",
       " '__hash__',\n",
       " '__iadd__',\n",
       " '__imul__',\n",
       " '__init__',\n",
       " '__init_subclass__',\n",
       " '__iter__',\n",
       " '__le__',\n",
       " '__len__',\n",
       " '__lt__',\n",
       " '__mul__',\n",
       " '__ne__',\n",
       " '__new__',\n",
       " '__reduce__',\n",
       " '__reduce_ex__',\n",
       " '__repr__',\n",
       " '__reversed__',\n",
       " '__rmul__',\n",
       " '__setattr__',\n",
       " '__setitem__',\n",
       " '__sizeof__',\n",
       " '__str__',\n",
       " '__subclasshook__',\n",
       " 'append',\n",
       " 'clear',\n",
       " 'copy',\n",
       " 'count',\n",
       " 'extend',\n",
       " 'index',\n",
       " 'insert',\n",
       " 'pop',\n",
       " 'remove',\n",
       " 'reverse',\n",
       " 'sort']"
      ]
     },
     "execution_count": 27,
     "metadata": {},
     "output_type": "execute_result"
    }
   ],
   "source": [
    "dir(item)"
   ]
  },
  {
   "cell_type": "code",
   "execution_count": 28,
   "id": "3155e048",
   "metadata": {},
   "outputs": [],
   "source": [
    "# Creating iterable object\n",
    "it = iter(item)"
   ]
  },
  {
   "cell_type": "code",
   "execution_count": 29,
   "id": "6509bdaa",
   "metadata": {},
   "outputs": [
    {
     "data": {
      "text/plain": [
       "1"
      ]
     },
     "execution_count": 29,
     "metadata": {},
     "output_type": "execute_result"
    }
   ],
   "source": [
    "next(it)"
   ]
  },
  {
   "cell_type": "code",
   "execution_count": 30,
   "id": "4a03350d",
   "metadata": {},
   "outputs": [
    {
     "data": {
      "text/plain": [
       "2"
      ]
     },
     "execution_count": 30,
     "metadata": {},
     "output_type": "execute_result"
    }
   ],
   "source": [
    "next(it)"
   ]
  },
  {
   "cell_type": "code",
   "execution_count": 31,
   "id": "11d7494e",
   "metadata": {},
   "outputs": [
    {
     "data": {
      "text/plain": [
       "3"
      ]
     },
     "execution_count": 31,
     "metadata": {},
     "output_type": "execute_result"
    }
   ],
   "source": [
    "next(it)"
   ]
  },
  {
   "cell_type": "code",
   "execution_count": 32,
   "id": "9c01a6f1",
   "metadata": {},
   "outputs": [
    {
     "ename": "StopIteration",
     "evalue": "",
     "output_type": "error",
     "traceback": [
      "\u001b[1;31m---------------------------------------------------------------------------\u001b[0m",
      "\u001b[1;31mStopIteration\u001b[0m                             Traceback (most recent call last)",
      "\u001b[1;32m<ipython-input-32-bc1ab118995a>\u001b[0m in \u001b[0;36m<module>\u001b[1;34m\u001b[0m\n\u001b[1;32m----> 1\u001b[1;33m \u001b[0mnext\u001b[0m\u001b[1;33m(\u001b[0m\u001b[0mit\u001b[0m\u001b[1;33m)\u001b[0m\u001b[1;33m\u001b[0m\u001b[1;33m\u001b[0m\u001b[0m\n\u001b[0m",
      "\u001b[1;31mStopIteration\u001b[0m: "
     ]
    }
   ],
   "source": [
    "next(it)"
   ]
  },
  {
   "cell_type": "code",
   "execution_count": 33,
   "id": "6cc581bc",
   "metadata": {},
   "outputs": [],
   "source": [
    "f = iter(item)"
   ]
  },
  {
   "cell_type": "code",
   "execution_count": 34,
   "id": "7d1f976b",
   "metadata": {},
   "outputs": [
    {
     "name": "stdout",
     "output_type": "stream",
     "text": [
      "1 2 3 "
     ]
    }
   ],
   "source": [
    "try:\n",
    "    while True:\n",
    "        line = next(f)\n",
    "        print(line, end=\" \")\n",
    "except StopIteration: \n",
    "    pass"
   ]
  },
  {
   "cell_type": "markdown",
   "id": "60be109f",
   "metadata": {},
   "source": [
    "# Function Argument Unpacking"
   ]
  },
  {
   "cell_type": "code",
   "execution_count": null,
   "id": "c859fbe2",
   "metadata": {},
   "outputs": [],
   "source": [
    "def func(a,b):\n",
    "    print(f\"{a} {b}\")"
   ]
  },
  {
   "cell_type": "code",
   "execution_count": null,
   "id": "b0f07bba",
   "metadata": {},
   "outputs": [],
   "source": [
    "func(1,2)"
   ]
  },
  {
   "cell_type": "code",
   "execution_count": null,
   "id": "30a46490",
   "metadata": {},
   "outputs": [],
   "source": [
    "var = [1,2]"
   ]
  },
  {
   "cell_type": "code",
   "execution_count": null,
   "id": "8042a1ce",
   "metadata": {},
   "outputs": [],
   "source": [
    "func(var)"
   ]
  },
  {
   "cell_type": "code",
   "execution_count": null,
   "id": "4a900655",
   "metadata": {},
   "outputs": [],
   "source": [
    "func(*var)"
   ]
  },
  {
   "cell_type": "markdown",
   "id": "ce739579",
   "metadata": {},
   "source": [
    "[Python Genrators](https://www.youtube.com/watch?v=y6o1sA0C8jk&list=PLWkNktG0P7z-0g6vY1XqeEq2_JuQYRv1P&index=21)"
   ]
  },
  {
   "cell_type": "markdown",
   "id": "634f5e28",
   "metadata": {},
   "source": [
    "[Python Decorators](https://www.youtube.com/watch?v=OV9-qBmFuDU&list=PLWkNktG0P7z-0g6vY1XqeEq2_JuQYRv1P&index=22)"
   ]
  },
  {
   "cell_type": "markdown",
   "id": "a3c8b26c",
   "metadata": {},
   "source": [
    "[Function Argument Packing](https://www.youtube.com/watch?v=3ZbpHV5e1dI&list=PLWkNktG0P7z-0g6vY1XqeEq2_JuQYRv1P&index=23)"
   ]
  }
 ],
 "metadata": {
  "kernelspec": {
   "display_name": "Python 3",
   "language": "python",
   "name": "python3"
  },
  "language_info": {
   "codemirror_mode": {
    "name": "ipython",
    "version": 3
   },
   "file_extension": ".py",
   "mimetype": "text/x-python",
   "name": "python",
   "nbconvert_exporter": "python",
   "pygments_lexer": "ipython3",
   "version": "3.8.8"
  }
 },
 "nbformat": 4,
 "nbformat_minor": 5
}
