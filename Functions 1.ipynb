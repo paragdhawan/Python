{
 "cells": [
  {
   "cell_type": "markdown",
   "id": "0d308673",
   "metadata": {},
   "source": [
    "# Functions"
   ]
  },
  {
   "cell_type": "markdown",
   "id": "f0dc3fed",
   "metadata": {},
   "source": [
    "Group of statements written to perform a perticular task."
   ]
  },
  {
   "cell_type": "markdown",
   "id": "bcae5641",
   "metadata": {},
   "source": [
    "Functions are of two types\n",
    "\n",
    "- inbulit functions \n",
    "\n",
    "- User Defined Functions"
   ]
  },
  {
   "cell_type": "code",
   "execution_count": null,
   "id": "69a9ba54",
   "metadata": {},
   "outputs": [],
   "source": [
    "# Syntax\n",
    "def <function_name>([<parameters>]):\n",
    "    <statement(s)>"
   ]
  },
  {
   "cell_type": "code",
   "execution_count": 2,
   "id": "912a2e50",
   "metadata": {},
   "outputs": [],
   "source": [
    "def display():\n",
    "    \"\"\" optional doc string \"\"\"\n",
    "    print(\"function 1\")\n",
    "    print(\"Congrats\")"
   ]
  },
  {
   "cell_type": "code",
   "execution_count": 4,
   "id": "c8e9d173",
   "metadata": {},
   "outputs": [
    {
     "name": "stdout",
     "output_type": "stream",
     "text": [
      "function 1\n",
      "Congrats\n",
      "None\n"
     ]
    }
   ],
   "source": [
    "print(display())"
   ]
  },
  {
   "cell_type": "markdown",
   "id": "55f16f4f",
   "metadata": {},
   "source": [
    "Control Transfer\n",
    "\n",
    "\n",
    "controls tranfers from the call point to the called function fution executes and control is then returned to the called point again."
   ]
  },
  {
   "cell_type": "code",
   "execution_count": 6,
   "id": "315443d5",
   "metadata": {},
   "outputs": [
    {
     "name": "stdout",
     "output_type": "stream",
     "text": [
      "<class 'function'>\n"
     ]
    }
   ],
   "source": [
    "print(type(display))"
   ]
  },
  {
   "cell_type": "code",
   "execution_count": 7,
   "id": "78c15f6d",
   "metadata": {},
   "outputs": [
    {
     "data": {
      "text/plain": [
       "['__annotations__',\n",
       " '__call__',\n",
       " '__class__',\n",
       " '__closure__',\n",
       " '__code__',\n",
       " '__defaults__',\n",
       " '__delattr__',\n",
       " '__dict__',\n",
       " '__dir__',\n",
       " '__doc__',\n",
       " '__eq__',\n",
       " '__format__',\n",
       " '__ge__',\n",
       " '__get__',\n",
       " '__getattribute__',\n",
       " '__globals__',\n",
       " '__gt__',\n",
       " '__hash__',\n",
       " '__init__',\n",
       " '__init_subclass__',\n",
       " '__kwdefaults__',\n",
       " '__le__',\n",
       " '__lt__',\n",
       " '__module__',\n",
       " '__name__',\n",
       " '__ne__',\n",
       " '__new__',\n",
       " '__qualname__',\n",
       " '__reduce__',\n",
       " '__reduce_ex__',\n",
       " '__repr__',\n",
       " '__setattr__',\n",
       " '__sizeof__',\n",
       " '__str__',\n",
       " '__subclasshook__']"
      ]
     },
     "execution_count": 7,
     "metadata": {},
     "output_type": "execute_result"
    }
   ],
   "source": [
    "# Everything in python is treated as object\n",
    "dir(display)"
   ]
  },
  {
   "cell_type": "code",
   "execution_count": 8,
   "id": "a3132cf3",
   "metadata": {},
   "outputs": [
    {
     "data": {
      "text/plain": [
       "' optional doc string '"
      ]
     },
     "execution_count": 8,
     "metadata": {},
     "output_type": "execute_result"
    }
   ],
   "source": [
    "display.__doc__"
   ]
  },
  {
   "cell_type": "code",
   "execution_count": 9,
   "id": "8a41aea1",
   "metadata": {},
   "outputs": [],
   "source": [
    "display?"
   ]
  },
  {
   "cell_type": "code",
   "execution_count": 10,
   "id": "e38cf3f9",
   "metadata": {},
   "outputs": [],
   "source": [
    "display??"
   ]
  },
  {
   "cell_type": "markdown",
   "id": "f87517e6",
   "metadata": {},
   "source": [
    "# Functions can be stored in variables and datastructure "
   ]
  },
  {
   "cell_type": "code",
   "execution_count": 11,
   "id": "4eaefc14",
   "metadata": {},
   "outputs": [],
   "source": [
    "def factorial(n):\n",
    "    fact = 1\n",
    "    for i in range(n,1,-1):\n",
    "        fact = fact * i\n",
    "    return(fact)"
   ]
  },
  {
   "cell_type": "code",
   "execution_count": 12,
   "id": "9d7a7932",
   "metadata": {},
   "outputs": [
    {
     "name": "stdout",
     "output_type": "stream",
     "text": [
      "24\n"
     ]
    }
   ],
   "source": [
    "print(factorial(4))"
   ]
  },
  {
   "cell_type": "code",
   "execution_count": 13,
   "id": "521c73b1",
   "metadata": {},
   "outputs": [],
   "source": [
    "# Function stored in variable\n",
    "othername = factorial"
   ]
  },
  {
   "cell_type": "code",
   "execution_count": 14,
   "id": "d418b9d2",
   "metadata": {},
   "outputs": [
    {
     "data": {
      "text/plain": [
       "24"
      ]
     },
     "execution_count": 14,
     "metadata": {},
     "output_type": "execute_result"
    }
   ],
   "source": [
    "othername(4)"
   ]
  },
  {
   "cell_type": "code",
   "execution_count": 15,
   "id": "ad358188",
   "metadata": {},
   "outputs": [
    {
     "data": {
      "text/plain": [
       "1612793393360"
      ]
     },
     "execution_count": 15,
     "metadata": {},
     "output_type": "execute_result"
    }
   ],
   "source": [
    "id(factorial)"
   ]
  },
  {
   "cell_type": "code",
   "execution_count": 16,
   "id": "e301832e",
   "metadata": {},
   "outputs": [
    {
     "data": {
      "text/plain": [
       "1612793393360"
      ]
     },
     "execution_count": 16,
     "metadata": {},
     "output_type": "execute_result"
    }
   ],
   "source": [
    "id(othername)"
   ]
  },
  {
   "cell_type": "code",
   "execution_count": 17,
   "id": "93af2a63",
   "metadata": {},
   "outputs": [],
   "source": [
    "def add(a,b):\n",
    "    c = a+b\n",
    "    return c\n",
    "\n",
    "def sub(a,b):\n",
    "    c = a-b\n",
    "    return c\n",
    "\n",
    "def mul(a,b):\n",
    "    c = a*b\n",
    "    return c\n",
    "\n",
    "def div(a,b):\n",
    "    c = a//b\n",
    "    return c"
   ]
  },
  {
   "cell_type": "code",
   "execution_count": 18,
   "id": "c6007d49",
   "metadata": {},
   "outputs": [],
   "source": [
    "#Functions stored in data strcture list \n",
    "manipulation = [add,sub,mul,div]"
   ]
  },
  {
   "cell_type": "code",
   "execution_count": 11,
   "id": "44401b22",
   "metadata": {},
   "outputs": [
    {
     "name": "stdout",
     "output_type": "stream",
     "text": [
      "30\n",
      "-10\n",
      "200\n",
      "0\n"
     ]
    }
   ],
   "source": [
    "a=10\n",
    "b=20\n",
    "\n",
    "for i in manipulation:\n",
    "    print(i(a,b))"
   ]
  },
  {
   "cell_type": "code",
   "execution_count": 12,
   "id": "4ae67c6d",
   "metadata": {},
   "outputs": [
    {
     "data": {
      "text/plain": [
       "300"
      ]
     },
     "execution_count": 12,
     "metadata": {},
     "output_type": "execute_result"
    }
   ],
   "source": [
    "manipulation[0](100,200)"
   ]
  },
  {
   "cell_type": "markdown",
   "id": "09d32e86",
   "metadata": {},
   "source": [
    "# Passing function as Argument to Another Functions"
   ]
  },
  {
   "cell_type": "code",
   "execution_count": 19,
   "id": "9546f6c8",
   "metadata": {},
   "outputs": [],
   "source": [
    "#using user defined function\n",
    "def newfun(fun):\n",
    "    \n",
    "    n = int(input(\"enter a range\"))\n",
    "    \n",
    "    for i in range(1,n+1):\n",
    "        \n",
    "        res = fun(i)\n",
    "        \n",
    "        print(f\"fact of {i} is {res}\")"
   ]
  },
  {
   "cell_type": "code",
   "execution_count": 20,
   "id": "b2e03291",
   "metadata": {},
   "outputs": [
    {
     "name": "stdout",
     "output_type": "stream",
     "text": [
      "enter a range5\n",
      "fact of 1 is 1\n",
      "fact of 2 is 2\n",
      "fact of 3 is 6\n",
      "fact of 4 is 24\n",
      "fact of 5 is 120\n"
     ]
    }
   ],
   "source": [
    "newfun(factorial)"
   ]
  },
  {
   "cell_type": "code",
   "execution_count": 16,
   "id": "f0a52cb9",
   "metadata": {},
   "outputs": [
    {
     "data": {
      "text/plain": [
       "<map at 0x1efdcedc340>"
      ]
     },
     "execution_count": 16,
     "metadata": {},
     "output_type": "execute_result"
    }
   ],
   "source": [
    "# using inbuit function\n",
    "map(factorial,range(1,6))"
   ]
  },
  {
   "cell_type": "code",
   "execution_count": 17,
   "id": "9150aba4",
   "metadata": {},
   "outputs": [
    {
     "data": {
      "text/plain": [
       "[1, 2, 6, 24, 120]"
      ]
     },
     "execution_count": 17,
     "metadata": {},
     "output_type": "execute_result"
    }
   ],
   "source": [
    "list(map(factorial,range(1,6)))"
   ]
  },
  {
   "cell_type": "markdown",
   "id": "bf150ee9",
   "metadata": {},
   "source": [
    "# Python Nested Function aks Inner Function"
   ]
  },
  {
   "cell_type": "code",
   "execution_count": 21,
   "id": "8c1c311a",
   "metadata": {},
   "outputs": [],
   "source": [
    "def outer():\n",
    "    print(\"outer\")\n",
    "    def inner():\n",
    "        print(\"inner\")\n",
    "    inner()"
   ]
  },
  {
   "cell_type": "code",
   "execution_count": 22,
   "id": "01540b4e",
   "metadata": {},
   "outputs": [
    {
     "name": "stdout",
     "output_type": "stream",
     "text": [
      "outer\n",
      "inner\n"
     ]
    }
   ],
   "source": [
    "outer()"
   ]
  },
  {
   "cell_type": "code",
   "execution_count": 23,
   "id": "7d3e9d57",
   "metadata": {},
   "outputs": [
    {
     "ename": "NameError",
     "evalue": "name 'inner' is not defined",
     "output_type": "error",
     "traceback": [
      "\u001b[1;31m---------------------------------------------------------------------------\u001b[0m",
      "\u001b[1;31mNameError\u001b[0m                                 Traceback (most recent call last)",
      "\u001b[1;32m<ipython-input-23-bc10f1654870>\u001b[0m in \u001b[0;36m<module>\u001b[1;34m\u001b[0m\n\u001b[1;32m----> 1\u001b[1;33m \u001b[0minner\u001b[0m\u001b[1;33m(\u001b[0m\u001b[1;33m)\u001b[0m\u001b[1;33m\u001b[0m\u001b[1;33m\u001b[0m\u001b[0m\n\u001b[0m",
      "\u001b[1;31mNameError\u001b[0m: name 'inner' is not defined"
     ]
    }
   ],
   "source": [
    "inner()"
   ]
  },
  {
   "cell_type": "code",
   "execution_count": 24,
   "id": "83a5093d",
   "metadata": {},
   "outputs": [],
   "source": [
    "# Example 2\n",
    "def fun1(text):\n",
    "    def fun2(t):\n",
    "        str1= t.upper() + \" \"\n",
    "        return str1\n",
    "    \n",
    "    str2 = fun2(text)\n",
    "    return(str2)"
   ]
  },
  {
   "cell_type": "code",
   "execution_count": 25,
   "id": "a3840b65",
   "metadata": {},
   "outputs": [
    {
     "name": "stdout",
     "output_type": "stream",
     "text": [
      "PYTHON PROGRAMMING \n"
     ]
    }
   ],
   "source": [
    "print(fun1(\"Python Programming\"))"
   ]
  },
  {
   "cell_type": "code",
   "execution_count": 26,
   "id": "e77d9970",
   "metadata": {},
   "outputs": [],
   "source": [
    "# Bheviour can be returned from main function to child function.\n",
    "# child Function copies the local state of parent function. "
   ]
  },
  {
   "cell_type": "code",
   "execution_count": 28,
   "id": "677d4143",
   "metadata": {},
   "outputs": [],
   "source": [
    "# clourser of a function \n",
    "def adder(num):\n",
    "    return lambda y: y + num\n",
    "    "
   ]
  },
  {
   "cell_type": "code",
   "execution_count": 29,
   "id": "104c1720",
   "metadata": {},
   "outputs": [],
   "source": [
    "# creating new function using adder\n",
    "\n",
    "newfunction = adder(10)"
   ]
  },
  {
   "cell_type": "code",
   "execution_count": 30,
   "id": "62c42d8a",
   "metadata": {},
   "outputs": [
    {
     "data": {
      "text/plain": [
       "121"
      ]
     },
     "execution_count": 30,
     "metadata": {},
     "output_type": "execute_result"
    }
   ],
   "source": [
    "newfunction(111)"
   ]
  },
  {
   "cell_type": "code",
   "execution_count": 30,
   "id": "f8ab8f01",
   "metadata": {},
   "outputs": [],
   "source": [
    "# objects behave like functions but not all objects are calleble"
   ]
  },
  {
   "cell_type": "code",
   "execution_count": 31,
   "id": "b03f2ea4",
   "metadata": {},
   "outputs": [
    {
     "name": "stdout",
     "output_type": "stream",
     "text": [
      "<class 'function'>\n"
     ]
    }
   ],
   "source": [
    "print(type(newfunction))"
   ]
  },
  {
   "cell_type": "code",
   "execution_count": 32,
   "id": "1332507a",
   "metadata": {},
   "outputs": [
    {
     "data": {
      "text/plain": [
       "['__annotations__',\n",
       " '__call__',\n",
       " '__class__',\n",
       " '__closure__',\n",
       " '__code__',\n",
       " '__defaults__',\n",
       " '__delattr__',\n",
       " '__dict__',\n",
       " '__dir__',\n",
       " '__doc__',\n",
       " '__eq__',\n",
       " '__format__',\n",
       " '__ge__',\n",
       " '__get__',\n",
       " '__getattribute__',\n",
       " '__globals__',\n",
       " '__gt__',\n",
       " '__hash__',\n",
       " '__init__',\n",
       " '__init_subclass__',\n",
       " '__kwdefaults__',\n",
       " '__le__',\n",
       " '__lt__',\n",
       " '__module__',\n",
       " '__name__',\n",
       " '__ne__',\n",
       " '__new__',\n",
       " '__qualname__',\n",
       " '__reduce__',\n",
       " '__reduce_ex__',\n",
       " '__repr__',\n",
       " '__setattr__',\n",
       " '__sizeof__',\n",
       " '__str__',\n",
       " '__subclasshook__']"
      ]
     },
     "execution_count": 32,
     "metadata": {},
     "output_type": "execute_result"
    }
   ],
   "source": [
    "dir(newfunction)"
   ]
  },
  {
   "cell_type": "code",
   "execution_count": 33,
   "id": "0f1a8c37",
   "metadata": {},
   "outputs": [
    {
     "data": {
      "text/plain": [
       "True"
      ]
     },
     "execution_count": 33,
     "metadata": {},
     "output_type": "execute_result"
    }
   ],
   "source": [
    "# Checking wheater a object is calleble or not\n",
    "\n",
    "callable(newfunction)"
   ]
  },
  {
   "cell_type": "code",
   "execution_count": 35,
   "id": "0e84ba3e",
   "metadata": {},
   "outputs": [
    {
     "name": "stdout",
     "output_type": "stream",
     "text": [
      "<class 'int'>\n"
     ]
    }
   ],
   "source": [
    "a=1\n",
    "print(type(a))"
   ]
  },
  {
   "cell_type": "code",
   "execution_count": 36,
   "id": "d0c63f59",
   "metadata": {},
   "outputs": [
    {
     "data": {
      "text/plain": [
       "False"
      ]
     },
     "execution_count": 36,
     "metadata": {},
     "output_type": "execute_result"
    }
   ],
   "source": [
    "callable(a)"
   ]
  },
  {
   "cell_type": "code",
   "execution_count": 37,
   "id": "b81df920",
   "metadata": {},
   "outputs": [
    {
     "ename": "TypeError",
     "evalue": "'int' object is not callable",
     "output_type": "error",
     "traceback": [
      "\u001b[1;31m---------------------------------------------------------------------------\u001b[0m",
      "\u001b[1;31mTypeError\u001b[0m                                 Traceback (most recent call last)",
      "\u001b[1;32m<ipython-input-37-8d7b4527e81d>\u001b[0m in \u001b[0;36m<module>\u001b[1;34m\u001b[0m\n\u001b[1;32m----> 1\u001b[1;33m \u001b[0ma\u001b[0m\u001b[1;33m(\u001b[0m\u001b[1;33m)\u001b[0m\u001b[1;33m\u001b[0m\u001b[1;33m\u001b[0m\u001b[0m\n\u001b[0m",
      "\u001b[1;31mTypeError\u001b[0m: 'int' object is not callable"
     ]
    }
   ],
   "source": [
    "a()"
   ]
  },
  {
   "cell_type": "code",
   "execution_count": 38,
   "id": "2d792154",
   "metadata": {},
   "outputs": [],
   "source": [
    "b = \"string\""
   ]
  },
  {
   "cell_type": "code",
   "execution_count": 39,
   "id": "1d04ff6d",
   "metadata": {},
   "outputs": [
    {
     "data": {
      "text/plain": [
       "False"
      ]
     },
     "execution_count": 39,
     "metadata": {},
     "output_type": "execute_result"
    }
   ],
   "source": [
    "callable(b)"
   ]
  },
  {
   "cell_type": "code",
   "execution_count": 40,
   "id": "a44ba771",
   "metadata": {},
   "outputs": [
    {
     "ename": "TypeError",
     "evalue": "'str' object is not callable",
     "output_type": "error",
     "traceback": [
      "\u001b[1;31m---------------------------------------------------------------------------\u001b[0m",
      "\u001b[1;31mTypeError\u001b[0m                                 Traceback (most recent call last)",
      "\u001b[1;32m<ipython-input-40-3bf86fc5afda>\u001b[0m in \u001b[0;36m<module>\u001b[1;34m\u001b[0m\n\u001b[1;32m----> 1\u001b[1;33m \u001b[0mb\u001b[0m\u001b[1;33m(\u001b[0m\u001b[1;33m)\u001b[0m\u001b[1;33m\u001b[0m\u001b[1;33m\u001b[0m\u001b[0m\n\u001b[0m",
      "\u001b[1;31mTypeError\u001b[0m: 'str' object is not callable"
     ]
    }
   ],
   "source": [
    "b()"
   ]
  },
  {
   "cell_type": "code",
   "execution_count": 41,
   "id": "a5656ddf",
   "metadata": {},
   "outputs": [
    {
     "data": {
      "text/plain": [
       "True"
      ]
     },
     "execution_count": 41,
     "metadata": {},
     "output_type": "execute_result"
    }
   ],
   "source": [
    "callable(newfunction)"
   ]
  },
  {
   "cell_type": "code",
   "execution_count": 44,
   "id": "a6878720",
   "metadata": {},
   "outputs": [],
   "source": [
    "newfunction??"
   ]
  },
  {
   "cell_type": "code",
   "execution_count": null,
   "id": "8ed4b12f",
   "metadata": {},
   "outputs": [],
   "source": []
  }
 ],
 "metadata": {
  "kernelspec": {
   "display_name": "Python 3",
   "language": "python",
   "name": "python3"
  },
  "language_info": {
   "codemirror_mode": {
    "name": "ipython",
    "version": 3
   },
   "file_extension": ".py",
   "mimetype": "text/x-python",
   "name": "python",
   "nbconvert_exporter": "python",
   "pygments_lexer": "ipython3",
   "version": "3.8.8"
  }
 },
 "nbformat": 4,
 "nbformat_minor": 5
}
