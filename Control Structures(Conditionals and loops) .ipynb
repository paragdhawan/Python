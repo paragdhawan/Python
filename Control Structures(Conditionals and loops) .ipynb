{
 "cells": [
  {
   "cell_type": "markdown",
   "metadata": {},
   "source": [
    "# if conditional statement"
   ]
  },
  {
   "cell_type": "code",
   "execution_count": null,
   "metadata": {},
   "outputs": [],
   "source": [
    "# Syntax"
   ]
  },
  {
   "cell_type": "code",
   "execution_count": null,
   "metadata": {},
   "outputs": [],
   "source": [
    "# if <expr>:\n",
    "#    <statement>"
   ]
  },
  {
   "cell_type": "code",
   "execution_count": null,
   "metadata": {},
   "outputs": [],
   "source": [
    "# Example"
   ]
  },
  {
   "cell_type": "code",
   "execution_count": null,
   "metadata": {},
   "outputs": [],
   "source": [
    "# finding maginitude of number "
   ]
  },
  {
   "cell_type": "code",
   "execution_count": null,
   "metadata": {},
   "outputs": [],
   "source": [
    "num = int (input(\"Enter the integer\"))\n",
    "if num<0 :\n",
    "    num = num * -1\n",
    "num"
   ]
  },
  {
   "cell_type": "code",
   "execution_count": null,
   "metadata": {},
   "outputs": [],
   "source": [
    "# flow diagram"
   ]
  },
  {
   "cell_type": "markdown",
   "metadata": {},
   "source": [
    "![](if.jpg)"
   ]
  },
  {
   "cell_type": "code",
   "execution_count": null,
   "metadata": {},
   "outputs": [],
   "source": [
    "# Electric bill computation Example"
   ]
  },
  {
   "cell_type": "code",
   "execution_count": null,
   "metadata": {},
   "outputs": [],
   "source": [
    "charge = 1.0\n",
    "num = int (input(\"enter the units consumed \"))\n",
    "if num>100:\n",
    "    charge = 2.0\n",
    "total = num * charge\n",
    "print(\"Total bill is {}\".format(total))"
   ]
  },
  {
   "cell_type": "markdown",
   "metadata": {},
   "source": [
    "- Python follows a convention known as the off-side rule, a term coined by British computer scientist Peter J. Landin. \n",
    "- Languages that adhere to the off-side rule define blocks by indentation.\n"
   ]
  },
  {
   "cell_type": "code",
   "execution_count": null,
   "metadata": {},
   "outputs": [],
   "source": [
    "Syntax"
   ]
  },
  {
   "cell_type": "code",
   "execution_count": null,
   "metadata": {},
   "outputs": [],
   "source": [
    "if <expr>:\n",
    "    <statement>\n",
    "    <statement>\n",
    "    ...\n",
    "    <statement>\n",
    "<following_statement>"
   ]
  },
  {
   "cell_type": "code",
   "execution_count": null,
   "metadata": {},
   "outputs": [],
   "source": [
    "# Filtering data\n",
    "num = int(input(\" enter any number \"))\n",
    "if(num>0 and num <10):\n",
    "    print(\"valid entry \")\n",
    " print(\"\\n \\t {}\".format(num))\n"
   ]
  },
  {
   "cell_type": "markdown",
   "metadata": {},
   "source": [
    "![](if2.jpg)"
   ]
  },
  {
   "cell_type": "markdown",
   "metadata": {},
   "source": [
    "# if ... else conditional statement"
   ]
  },
  {
   "cell_type": "code",
   "execution_count": null,
   "metadata": {},
   "outputs": [],
   "source": [
    "if <expr>:\n",
    "    <statement(s)>\n",
    "else:\n",
    "    <statement(s)>"
   ]
  },
  {
   "cell_type": "code",
   "execution_count": null,
   "metadata": {},
   "outputs": [],
   "source": [
    "Flow diagram"
   ]
  },
  {
   "cell_type": "markdown",
   "metadata": {},
   "source": [
    "![](flowchart_if_else.jpg)"
   ]
  },
  {
   "cell_type": "code",
   "execution_count": null,
   "metadata": {},
   "outputs": [],
   "source": [
    "# Odd even Program"
   ]
  },
  {
   "cell_type": "code",
   "execution_count": null,
   "metadata": {},
   "outputs": [],
   "source": [
    "num = int (input (\"Enter number\"))\n",
    "if num % 2 == 0:\n",
    "    print(\"Number is even\")\n",
    "else:\n",
    "    print(\"Number is odd\")"
   ]
  },
  {
   "cell_type": "code",
   "execution_count": null,
   "metadata": {},
   "outputs": [],
   "source": [
    "# Greater between two numbers"
   ]
  },
  {
   "cell_type": "code",
   "execution_count": null,
   "metadata": {},
   "outputs": [],
   "source": [
    "a = int (input(\"Enter first number \"))\n",
    "b= int(input(\"enter second number\"))\n",
    "\n",
    "if a>b:\n",
    "    print(\"First number is greater : {}\".format(a))\n",
    "else:\n",
    "    print(\"second number is greater : {}\".format(b))"
   ]
  },
  {
   "cell_type": "markdown",
   "metadata": {},
   "source": [
    "# if ... elif ... else (Chained Conditionals)"
   ]
  },
  {
   "cell_type": "code",
   "execution_count": null,
   "metadata": {},
   "outputs": [],
   "source": [
    "if <expr>:\n",
    "    <statement(s)>\n",
    "elif <expr>:\n",
    "    <statement(s)>\n",
    "elif <expr>:\n",
    "    <statement(s)>\n",
    "    ...\n",
    "else:\n",
    "    <statement(s)>"
   ]
  },
  {
   "cell_type": "code",
   "execution_count": null,
   "metadata": {},
   "outputs": [],
   "source": [
    "a = 100\n",
    "b= 100\n",
    "if a>b:\n",
    "    print (\"a is greater {}\".format(a))\n",
    "elif a==b:\n",
    "    print(\"a and b are equal {}\".format(a))\n",
    "else:\n",
    "    print(\"b is greater than a {}\".format(b))"
   ]
  },
  {
   "cell_type": "markdown",
   "metadata": {},
   "source": [
    "Write a Program to Prompt for a Score between 0.0 and 1.0. If the\n",
    "Score Is Out of Range, Print an Error. If the Score Is between 0.0\n",
    "and 1.0, Print a Grade Using the Following Table\n",
    "Score Grade\n",
    ">= 0.9 A\n",
    ">= 0.8 B\n",
    ">= 0.7 C\n",
    ">= 0.6 D\n",
    "< 0.6 F"
   ]
  },
  {
   "cell_type": "code",
   "execution_count": null,
   "metadata": {},
   "outputs": [],
   "source": [
    "score = float (input (\"Enter score between 0 & 1\"))\n",
    "if score <0 or score >1:\n",
    "    print ( \"Error\")\n",
    "elif score >= 0.9:\n",
    "    print(\"Grade i s A\")\n",
    "elif score >= 0.8:\n",
    "    print(\"Grade i s B\")\n",
    "elif score >= 0.7:\n",
    "    print(\"Grade i s C\")\n",
    "elif score >= 0.6:\n",
    "    print(\"Grade i s D\")\n",
    "else:\n",
    "    print(\"Garde id F\")"
   ]
  },
  {
   "cell_type": "markdown",
   "metadata": {},
   "source": [
    "# nested if... else (Nested Conditionals)"
   ]
  },
  {
   "cell_type": "code",
   "execution_count": null,
   "metadata": {},
   "outputs": [],
   "source": [
    "year = int ( input(\"Enter a Year\"))\n",
    "\n",
    "if year % 4 == 0:\n",
    "    if year % 100 ==0:\n",
    "        if year % 400 == 0:\n",
    "            print(\" it is a leap year\")\n",
    "        else:\n",
    "            print ( \"It is not a leap year\")\n",
    "    else:\n",
    "        print(\"it is a leap year\")\n",
    "else:\n",
    "    print (\"It is not a leap year\")"
   ]
  },
  {
   "cell_type": "markdown",
   "metadata": {},
   "source": [
    "# pass statement"
   ]
  },
  {
   "cell_type": "code",
   "execution_count": null,
   "metadata": {},
   "outputs": [],
   "source": [
    "if <expr>:\n",
    "    pass"
   ]
  },
  {
   "cell_type": "code",
   "execution_count": null,
   "metadata": {},
   "outputs": [],
   "source": [
    "A=10\n",
    "if A>5:\n",
    "    pass\n",
    "print(\"A is{}\".format(A))"
   ]
  },
  {
   "cell_type": "markdown",
   "metadata": {},
   "source": [
    "# while loop"
   ]
  },
  {
   "cell_type": "code",
   "execution_count": null,
   "metadata": {},
   "outputs": [],
   "source": [
    "while test: # Loop test\n",
    "     statements # Loop body\n",
    "else: # Optional else\n",
    "     statements # Run if didn't exit loop with break"
   ]
  },
  {
   "cell_type": "code",
   "execution_count": null,
   "metadata": {},
   "outputs": [],
   "source": [
    "while test:\n",
    "     statements\n",
    "     if test: break # Exit loop now, skip else if present\n",
    "     if test: continue # Go to top of loop now, to test1\n",
    "else:\n",
    "     statements # Run if we didn't hit a 'break'"
   ]
  },
  {
   "cell_type": "code",
   "execution_count": null,
   "metadata": {},
   "outputs": [],
   "source": [
    "i = 1\n",
    "while i<10:\n",
    "    print(\" \\t {}\".format(i))\n",
    "    i+=1\n",
    "else:\n",
    "    print(\" Loop was executed sucessfully\")"
   ]
  },
  {
   "cell_type": "markdown",
   "metadata": {},
   "source": [
    "# for Loop"
   ]
  },
  {
   "cell_type": "code",
   "execution_count": null,
   "metadata": {},
   "outputs": [],
   "source": [
    "for target in object: # Assign object items to target\n",
    "    statements # Repeated loop body: use target\n",
    "else: # Optional else part\n",
    "    statements # If we didn't hit a 'break'"
   ]
  },
  {
   "cell_type": "code",
   "execution_count": null,
   "metadata": {},
   "outputs": [],
   "source": [
    "for target in object: # Assign object items to target\n",
    "    statements\n",
    "     if test: break # Exit loop now, skip else\n",
    "     if test: continue # Go to top of loop now\n",
    "else:\n",
    "     statements # If we didn't hit a 'break'"
   ]
  },
  {
   "cell_type": "markdown",
   "metadata": {},
   "source": [
    "range([start ,] stop [, step])\n",
    "Both start and step arguments are optional and the range argument value should always\n",
    "be an integer.\n",
    "\n",
    "start → value indicates the beginning of the sequence. If the start argument is not\n",
    "specified, then the sequence of numbers start from zero by default.\n",
    "\n",
    "stop → Generates numbers up to this value but not including the number itself.\n",
    "\n",
    "step → indicates the difference between every two consecutive numbers in the\n",
    "sequence. The step value can be both negative and positive but not zero."
   ]
  },
  {
   "cell_type": "code",
   "execution_count": null,
   "metadata": {},
   "outputs": [],
   "source": [
    "# stop\n",
    "for i in range (5):\n",
    "    print(i)"
   ]
  },
  {
   "cell_type": "code",
   "execution_count": null,
   "metadata": {},
   "outputs": [],
   "source": [
    "# start stop \n",
    "for i in range (1,5):\n",
    "    print(i)"
   ]
  },
  {
   "cell_type": "code",
   "execution_count": null,
   "metadata": {},
   "outputs": [],
   "source": [
    "# start stop step\n",
    "for i in range(1,10,2):\n",
    "    print(i)"
   ]
  },
  {
   "cell_type": "code",
   "execution_count": null,
   "metadata": {},
   "outputs": [],
   "source": [
    "for i in range (10,1,-2):\n",
    "    print(i)"
   ]
  },
  {
   "cell_type": "code",
   "execution_count": null,
   "metadata": {},
   "outputs": [],
   "source": [
    "# Write a Program to Find the Factorial of a Number"
   ]
  },
  {
   "cell_type": "code",
   "execution_count": null,
   "metadata": {},
   "outputs": [],
   "source": [
    "num = int (input(\"Enter the number\"))\n",
    "fact = 1\n",
    "if num<0:\n",
    "    print(\"Factorial can not be computed\")\n",
    "else:\n",
    "    if num == 0 or num == 1 :\n",
    "        print (\"factorial is {}\".format(fact) )\n",
    "    else: \n",
    "        for i in range (1,num+1):\n",
    "            fact = fact * i\n",
    "if num>0:\n",
    "    print (\"factorial of number{} is {}\".format(num,fact))"
   ]
  },
  {
   "cell_type": "markdown",
   "metadata": {},
   "source": [
    "# break and continue statements"
   ]
  },
  {
   "cell_type": "code",
   "execution_count": null,
   "metadata": {},
   "outputs": [],
   "source": [
    "# prime number \n",
    "\n",
    "num = int (input(\"Enter a number \"))\n",
    "flage = 1\n",
    "for i in range (2,num):\n",
    "    if num % i == 0:\n",
    "        flage = 0\n",
    "        break\n",
    "        \n",
    "if flage == 1:\n",
    "    print (\"Entered number is prime\")\n",
    "else: \n",
    "    print (\"Its not a prime number \")\n",
    "        "
   ]
  },
  {
   "cell_type": "code",
   "execution_count": null,
   "metadata": {},
   "outputs": [],
   "source": [
    "i = 1\n",
    "while i<20 :\n",
    "    if i % 2 == 0:\n",
    "        i = i +1\n",
    "        continue\n",
    "    print(\"{}\".format(i))\n",
    "    i= i+1"
   ]
  },
  {
   "cell_type": "markdown",
   "metadata": {},
   "source": [
    "# Parallel Traversals: zip"
   ]
  },
  {
   "cell_type": "code",
   "execution_count": null,
   "metadata": {},
   "outputs": [],
   "source": [
    "L1 = [1,2,3,4]\n",
    "L2 = [5,6,7,8]\n",
    "zip(L1, L2)"
   ]
  },
  {
   "cell_type": "code",
   "execution_count": null,
   "metadata": {},
   "outputs": [],
   "source": [
    "list(zip(L1, L2))"
   ]
  },
  {
   "cell_type": "code",
   "execution_count": null,
   "metadata": {},
   "outputs": [],
   "source": [
    "for (x, y) in zip(L1, L2):\n",
    "    print(x, y, '--', x+y)"
   ]
  },
  {
   "cell_type": "code",
   "execution_count": null,
   "metadata": {},
   "outputs": [],
   "source": [
    "S1 = 'abc'\n",
    "S2 = 'xyz123'\n",
    "list(zip(S1, S2)) "
   ]
  },
  {
   "cell_type": "code",
   "execution_count": null,
   "metadata": {},
   "outputs": [],
   "source": [
    " keys = ['spam', 'eggs', 'toast']\n",
    "vals = [1, 3, 5]"
   ]
  },
  {
   "cell_type": "code",
   "execution_count": null,
   "metadata": {},
   "outputs": [],
   "source": [
    "list(zip(keys, vals))"
   ]
  },
  {
   "cell_type": "markdown",
   "metadata": {},
   "source": [
    "# Some Sample programs"
   ]
  },
  {
   "cell_type": "code",
   "execution_count": null,
   "metadata": {},
   "outputs": [],
   "source": [
    "# Write a Program to Find the Sum of All Odd and Even Numbers form 1 to n "
   ]
  },
  {
   "cell_type": "code",
   "execution_count": null,
   "metadata": {},
   "outputs": [],
   "source": [
    "n = int (input (\"Enter the value of n\"))\n",
    "even = 0\n",
    "odd = 0\n",
    "\n",
    "for i in range (1,n+1):\n",
    "    if i % 2 == 0:\n",
    "        even = even + i\n",
    "    else:\n",
    "        odd = odd + i\n",
    "        \n",
    "print(\" Even Sum is {}, Odd sum is {}\".format(even,odd))"
   ]
  },
  {
   "cell_type": "code",
   "execution_count": null,
   "metadata": {},
   "outputs": [],
   "source": [
    "# Write a Program to Find the Average of n Natural Numbers"
   ]
  },
  {
   "cell_type": "code",
   "execution_count": null,
   "metadata": {},
   "outputs": [],
   "source": [
    "n = int (input(\" Enter the value of n\"))\n",
    "count = 0\n",
    "sum = 0\n",
    "for i in range (1,n+1):\n",
    "    count = count + 1\n",
    "    sum = sum + i\n",
    "\n",
    "avg = sum/count\n",
    "\n",
    "print(\"Average of n natural number is {}\".format(avg))"
   ]
  },
  {
   "cell_type": "code",
   "execution_count": null,
   "metadata": {},
   "outputs": [],
   "source": [
    "# Write Python Program to Find the Sum of Digits in a Number"
   ]
  },
  {
   "cell_type": "code",
   "execution_count": null,
   "metadata": {},
   "outputs": [],
   "source": [
    "num = int (input(\" Enter the number \"))\n",
    "ori = num\n",
    "sum = 0\n",
    "while num !=0 :\n",
    "    sum = sum + num % 10\n",
    "    num =  num // 10\n",
    "    \n",
    "print(\" Sum of digits of {} is {}\".format(ori,sum))"
   ]
  },
  {
   "cell_type": "code",
   "execution_count": null,
   "metadata": {},
   "outputs": [],
   "source": [
    "# Write a Program to Display the Fibonacci Sequences up to nth term. if n = 5,\n",
    "0 1 1 2 3"
   ]
  },
  {
   "cell_type": "code",
   "execution_count": 22,
   "metadata": {},
   "outputs": [
    {
     "name": "stdout",
     "output_type": "stream",
     "text": [
      " Enter the value of n2\n",
      "0\n",
      "1\n"
     ]
    }
   ],
   "source": [
    "n = int (input (\" Enter the value of n\"))\n",
    "ft = 0\n",
    "st = 1\n",
    "\n",
    "if n<=0:\n",
    "    print(\"series can not be genrated\")\n",
    "if n==1:\n",
    "    print(ft)\n",
    "if n==2:\n",
    "    print(ft)\n",
    "    print(st)\n",
    "    \n",
    "if n>2:\n",
    "    print(ft)\n",
    "    print(st)\n",
    "    for i in range (3,n+1):\n",
    "        res = ft + st\n",
    "        print(res)\n",
    "        ft = st\n",
    "        st = res\n",
    "        \n",
    "        "
   ]
  },
  {
   "cell_type": "code",
   "execution_count": null,
   "metadata": {},
   "outputs": [],
   "source": [
    "# Program to Find the GCD of Two Positive Numbers"
   ]
  },
  {
   "cell_type": "code",
   "execution_count": 27,
   "metadata": {},
   "outputs": [
    {
     "name": "stdout",
     "output_type": "stream",
     "text": [
      "enter first number 24\n",
      " Enter Second number 18\n",
      "GCD is 6\n"
     ]
    }
   ],
   "source": [
    "num1 = int (input(\"enter first number \"))\n",
    "num2 = int (input(\" Enter Second number \"))\n",
    "\n",
    "if num1<0 and num2 <0 :\n",
    "    print (\" GCD can not be computed\")\n",
    "    \n",
    "if num1 == 0:\n",
    "    print (\"GCD is {}\".format(num2))\n",
    "    \n",
    "if num2 == 0:\n",
    "    print (\"GCD is {}\".format(num1))\n",
    "    \n",
    "while num1 != num2 :\n",
    "    if num1>num2:\n",
    "        num1 = num1 - num2\n",
    "    else:\n",
    "        num2 = num2 -num1\n",
    "\n",
    "print (\"GCD is {}\".format(num2))"
   ]
  },
  {
   "cell_type": "markdown",
   "metadata": {},
   "source": [
    "![](gcd.jpg)"
   ]
  }
 ],
 "metadata": {
  "kernelspec": {
   "display_name": "Python 3",
   "language": "python",
   "name": "python3"
  },
  "language_info": {
   "codemirror_mode": {
    "name": "ipython",
    "version": 3
   },
   "file_extension": ".py",
   "mimetype": "text/x-python",
   "name": "python",
   "nbconvert_exporter": "python",
   "pygments_lexer": "ipython3",
   "version": "3.7.4"
  },
  "toc": {
   "base_numbering": 1,
   "nav_menu": {},
   "number_sections": true,
   "sideBar": true,
   "skip_h1_title": false,
   "title_cell": "Table of Contents",
   "title_sidebar": "Contents",
   "toc_cell": false,
   "toc_position": {
    "height": "calc(100% - 180px)",
    "left": "10px",
    "top": "150px",
    "width": "219.188px"
   },
   "toc_section_display": true,
   "toc_window_display": true
  },
  "varInspector": {
   "cols": {
    "lenName": 16,
    "lenType": 16,
    "lenVar": 40
   },
   "kernels_config": {
    "python": {
     "delete_cmd_postfix": "",
     "delete_cmd_prefix": "del ",
     "library": "var_list.py",
     "varRefreshCmd": "print(var_dic_list())"
    },
    "r": {
     "delete_cmd_postfix": ") ",
     "delete_cmd_prefix": "rm(",
     "library": "var_list.r",
     "varRefreshCmd": "cat(var_dic_list()) "
    }
   },
   "types_to_exclude": [
    "module",
    "function",
    "builtin_function_or_method",
    "instance",
    "_Feature"
   ],
   "window_display": false
  }
 },
 "nbformat": 4,
 "nbformat_minor": 2
}
