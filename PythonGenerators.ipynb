{
 "cells": [
  {
   "cell_type": "markdown",
   "metadata": {
    "ExecuteTime": {
     "end_time": "2020-04-25T07:52:48.767129Z",
     "start_time": "2020-04-25T07:52:48.762636Z"
    }
   },
   "source": [
    "# Generators"
   ]
  },
  {
   "cell_type": "markdown",
   "metadata": {
    "ExecuteTime": {
     "end_time": "2020-04-25T07:58:23.657745Z",
     "start_time": "2020-04-25T07:58:23.653753Z"
    }
   },
   "source": [
    "# Genrator function"
   ]
  },
  {
   "cell_type": "code",
   "execution_count": null,
   "metadata": {
    "ExecuteTime": {
     "end_time": "2020-04-25T09:24:31.467295Z",
     "start_time": "2020-04-25T09:24:31.460805Z"
    }
   },
   "outputs": [],
   "source": [
    "def func():\n",
    "    number = 10\n",
    "    yield number\n",
    "    number +=2\n",
    "    yield number\n",
    "    number +=2\n",
    "    yield number"
   ]
  },
  {
   "cell_type": "code",
   "execution_count": null,
   "metadata": {
    "ExecuteTime": {
     "end_time": "2020-04-25T09:25:13.643849Z",
     "start_time": "2020-04-25T09:25:13.636863Z"
    }
   },
   "outputs": [],
   "source": [
    "gn = func()\n",
    "print(next(gn))"
   ]
  },
  {
   "cell_type": "code",
   "execution_count": null,
   "metadata": {
    "ExecuteTime": {
     "end_time": "2020-04-25T09:25:59.955340Z",
     "start_time": "2020-04-25T09:25:59.935379Z"
    }
   },
   "outputs": [],
   "source": [
    "for i in "
   ]
  },
  {
   "cell_type": "code",
   "execution_count": null,
   "metadata": {
    "ExecuteTime": {
     "end_time": "2020-04-25T09:49:07.867570Z",
     "start_time": "2020-04-25T09:49:07.858587Z"
    }
   },
   "outputs": [],
   "source": [
    "for i in func():\n",
    "    print(i) "
   ]
  },
  {
   "cell_type": "code",
   "execution_count": null,
   "metadata": {},
   "outputs": [],
   "source": []
  },
  {
   "cell_type": "markdown",
   "metadata": {},
   "source": [
    "returns  iterator. \n",
    "store state of function."
   ]
  },
  {
   "cell_type": "code",
   "execution_count": null,
   "metadata": {
    "ExecuteTime": {
     "end_time": "2020-04-25T10:03:54.887055Z",
     "start_time": "2020-04-25T10:03:54.878570Z"
    }
   },
   "outputs": [],
   "source": [
    "# yield statement in a function turns it into a generator\n",
    "def countdown(n):\n",
    "    print('Starting to count from', n)\n",
    "    \n",
    "    while n > 0:\n",
    "        yield n\n",
    "        n -= 1\n",
    "        \n",
    "    print('Done!')\n"
   ]
  },
  {
   "cell_type": "code",
   "execution_count": null,
   "metadata": {},
   "outputs": [],
   "source": [
    "you return a special iterator called a generator.\n",
    "You can assign this generator to a variable in order to use it. \n",
    "When you call special methods on the generator, such as next(),\n",
    "the code within the function is executed up to yield."
   ]
  },
  {
   "cell_type": "code",
   "execution_count": null,
   "metadata": {
    "ExecuteTime": {
     "end_time": "2020-04-25T10:04:16.561803Z",
     "start_time": "2020-04-25T10:04:16.551822Z"
    }
   },
   "outputs": [],
   "source": [
    " # Create the generator, notice no output appears\n",
    "c = countdown(3)\n",
    "type (c) "
   ]
  },
  {
   "cell_type": "code",
   "execution_count": null,
   "metadata": {
    "ExecuteTime": {
     "end_time": "2020-04-25T10:04:45.065848Z",
     "start_time": "2020-04-25T10:04:45.046882Z"
    }
   },
   "outputs": [],
   "source": [
    " # Run to first yield and emit a value\n",
    "next(c)"
   ]
  },
  {
   "cell_type": "code",
   "execution_count": null,
   "metadata": {
    "ExecuteTime": {
     "end_time": "2020-04-25T09:58:45.495886Z",
     "start_time": "2020-04-25T09:58:45.486404Z"
    }
   },
   "outputs": [],
   "source": [
    "When the Python yield statement is hit, \n",
    "the program suspends function execution and returns the yielded value to the caller. \n",
    "(In contrast, return stops function execution completely.) \n",
    "When a function is suspended, the state of that function is saved.\n",
    "This includes any variable bindings local to the generator, \n",
    "the instruction pointer, the internal stack, and any exception handling."
   ]
  },
  {
   "cell_type": "markdown",
   "metadata": {
    "ExecuteTime": {
     "end_time": "2020-04-25T08:00:14.402400Z",
     "start_time": "2020-04-25T08:00:14.397908Z"
    }
   },
   "source": [
    "# Example Generating an Infinite Sequence"
   ]
  },
  {
   "cell_type": "code",
   "execution_count": null,
   "metadata": {
    "ExecuteTime": {
     "end_time": "2020-04-25T10:13:13.684675Z",
     "start_time": "2020-04-25T10:13:13.676690Z"
    }
   },
   "outputs": [],
   "source": [
    "def infinite_sequence():\n",
    "    num = 0\n",
    "    \n",
    "    while True:\n",
    "        yield num\n",
    "        num += 1"
   ]
  },
  {
   "cell_type": "code",
   "execution_count": null,
   "metadata": {
    "ExecuteTime": {
     "end_time": "2020-04-25T10:13:23.259047Z",
     "start_time": "2020-04-25T10:13:23.252560Z"
    }
   },
   "outputs": [],
   "source": [
    "gen = infinite_sequence()"
   ]
  },
  {
   "cell_type": "code",
   "execution_count": null,
   "metadata": {
    "ExecuteTime": {
     "end_time": "2020-04-25T10:13:39.927782Z",
     "start_time": "2020-04-25T10:13:39.919300Z"
    }
   },
   "outputs": [],
   "source": [
    "next(gen)"
   ]
  },
  {
   "cell_type": "code",
   "execution_count": null,
   "metadata": {
    "ExecuteTime": {
     "end_time": "2020-04-25T10:22:49.291469Z",
     "start_time": "2020-04-25T10:22:49.109810Z"
    }
   },
   "outputs": [],
   "source": [
    "for i in infinite_sequence():\n",
    "    break "
   ]
  },
  {
   "cell_type": "code",
   "execution_count": null,
   "metadata": {},
   "outputs": [],
   "source": []
  },
  {
   "cell_type": "code",
   "execution_count": null,
   "metadata": {},
   "outputs": [],
   "source": []
  },
  {
   "cell_type": "markdown",
   "metadata": {},
   "source": [
    "# Efficient way of creating iterators"
   ]
  },
  {
   "cell_type": "code",
   "execution_count": 4,
   "metadata": {
    "ExecuteTime": {
     "end_time": "2020-04-25T11:08:18.800851Z",
     "start_time": "2020-04-25T11:08:18.794864Z"
    }
   },
   "outputs": [],
   "source": [
    "def oddGen(n, m): \n",
    "    \n",
    "    while n < m: \n",
    "        yield n \n",
    "        n += 2 "
   ]
  },
  {
   "cell_type": "code",
   "execution_count": 5,
   "metadata": {
    "ExecuteTime": {
     "end_time": "2020-04-25T11:08:37.260543Z",
     "start_time": "2020-04-25T11:08:37.202155Z"
    }
   },
   "outputs": [
    {
     "data": {
      "text/plain": [
       "2500000000"
      ]
     },
     "execution_count": 5,
     "metadata": {},
     "output_type": "execute_result"
    }
   ],
   "source": [
    "sum(oddGen(1,100000))"
   ]
  },
  {
   "cell_type": "code",
   "execution_count": null,
   "metadata": {
    "ExecuteTime": {
     "end_time": "2020-04-25T10:54:36.762884Z",
     "start_time": "2020-04-25T10:54:36.753903Z"
    }
   },
   "outputs": [],
   "source": [
    "        \n",
    "#a list of odd numbers from n to m is built\n",
    "def oddlst(n,m): \n",
    "    lst=[] \n",
    "    while n<m: \n",
    "        lst.append(n) \n",
    "        n +=2 \n",
    "    return lst"
   ]
  },
  {
   "cell_type": "code",
   "execution_count": 6,
   "metadata": {
    "ExecuteTime": {
     "end_time": "2020-04-25T11:09:19.421666Z",
     "start_time": "2020-04-25T11:09:19.190097Z"
    }
   },
   "outputs": [
    {
     "ename": "NameError",
     "evalue": "name 'oddlst' is not defined",
     "output_type": "error",
     "traceback": [
      "\u001b[1;31m---------------------------------------------------------------------------\u001b[0m",
      "\u001b[1;31mNameError\u001b[0m                                 Traceback (most recent call last)",
      "\u001b[1;32m<ipython-input-6-c8afdf508813>\u001b[0m in \u001b[0;36m<module>\u001b[1;34m\u001b[0m\n\u001b[1;32m----> 1\u001b[1;33m \u001b[0msum\u001b[0m\u001b[1;33m(\u001b[0m\u001b[0moddlst\u001b[0m\u001b[1;33m(\u001b[0m\u001b[1;36m1\u001b[0m\u001b[1;33m,\u001b[0m\u001b[1;36m100000\u001b[0m\u001b[1;33m)\u001b[0m\u001b[1;33m)\u001b[0m\u001b[1;33m\u001b[0m\u001b[1;33m\u001b[0m\u001b[0m\n\u001b[0m",
      "\u001b[1;31mNameError\u001b[0m: name 'oddlst' is not defined"
     ]
    }
   ],
   "source": [
    "sum(oddlst(1,100000))"
   ]
  },
  {
   "cell_type": "markdown",
   "metadata": {
    "ExecuteTime": {
     "end_time": "2020-04-25T07:51:47.735137Z",
     "start_time": "2020-04-25T07:51:47.731139Z"
    }
   },
   "source": [
    "# Usually, a generator object is used in a for loop."
   ]
  },
  {
   "cell_type": "code",
   "execution_count": 8,
   "metadata": {
    "ExecuteTime": {
     "end_time": "2020-04-25T11:17:21.081275Z",
     "start_time": "2020-04-25T11:17:21.072790Z"
    }
   },
   "outputs": [
    {
     "name": "stdout",
     "output_type": "stream",
     "text": [
      "1\n",
      "3\n",
      "5\n",
      "7\n",
      "9\n"
     ]
    }
   ],
   "source": [
    "for i in oddGen(1,10):\n",
    "    print(i) "
   ]
  },
  {
   "cell_type": "markdown",
   "metadata": {},
   "source": [
    "# Genrator Expression"
   ]
  },
  {
   "cell_type": "code",
   "execution_count": null,
   "metadata": {},
   "outputs": [],
   "source": [
    "     \n",
    "A generator expression can also be created.\n",
    "These use the exact same syntax as a list comprehension \n",
    "with the exception that we replace the square brackets \n",
    "with a set of parentheses. \n",
    "\n",
    "These create generator objects, not lists.\n",
    "The object will not create any data until it is demanded."
   ]
  },
  {
   "cell_type": "code",
   "execution_count": 13,
   "metadata": {
    "ExecuteTime": {
     "end_time": "2020-04-25T11:22:10.048274Z",
     "start_time": "2020-04-25T11:22:10.040791Z"
    }
   },
   "outputs": [
    {
     "name": "stdout",
     "output_type": "stream",
     "text": [
      "<generator object <genexpr> at 0x00000242EE894148>\n"
     ]
    }
   ],
   "source": [
    "lst1= [1, 2, 3, 4] \n",
    "gen1 =  (10**i for i in lst1) \n",
    "print(gen1)"
   ]
  },
  {
   "cell_type": "code",
   "execution_count": 14,
   "metadata": {
    "ExecuteTime": {
     "end_time": "2020-04-25T11:22:32.030788Z",
     "start_time": "2020-04-25T11:22:32.019809Z"
    }
   },
   "outputs": [
    {
     "data": {
      "text/plain": [
       "[10, 100, 1000, 10000]"
      ]
     },
     "execution_count": 14,
     "metadata": {},
     "output_type": "execute_result"
    }
   ],
   "source": [
    "list(gen1)"
   ]
  },
  {
   "cell_type": "markdown",
   "metadata": {
    "ExecuteTime": {
     "end_time": "2020-04-25T08:05:57.339398Z",
     "start_time": "2020-04-25T08:05:57.333408Z"
    }
   },
   "source": [
    "# Using multiple genrator Functions"
   ]
  },
  {
   "cell_type": "code",
   "execution_count": null,
   "metadata": {
    "ExecuteTime": {
     "end_time": "2020-04-25T11:32:58.320629Z",
     "start_time": "2020-04-25T11:32:58.311151Z"
    }
   },
   "outputs": [],
   "source": [
    "def fib(nums):\n",
    "    x, y = 0, 1\n",
    "    for i in range(nums):\n",
    "        x, y = y, x+y\n",
    "        yield x"
   ]
  },
  {
   "cell_type": "code",
   "execution_count": null,
   "metadata": {
    "ExecuteTime": {
     "end_time": "2020-04-25T11:32:58.320629Z",
     "start_time": "2020-04-25T11:32:58.311151Z"
    }
   },
   "outputs": [],
   "source": [
    "def square(nums):\n",
    "    for num in nums:\n",
    "        yield num**2"
   ]
  },
  {
   "cell_type": "code",
   "execution_count": 37,
   "metadata": {
    "ExecuteTime": {
     "end_time": "2020-04-25T11:48:09.142638Z",
     "start_time": "2020-04-25T11:48:09.135653Z"
    }
   },
   "outputs": [
    {
     "name": "stdout",
     "output_type": "stream",
     "text": [
      "6\n"
     ]
    }
   ],
   "source": [
    "print(sum(square(fib(3))))"
   ]
  },
  {
   "cell_type": "code",
   "execution_count": 40,
   "metadata": {
    "ExecuteTime": {
     "end_time": "2020-04-25T11:49:39.331124Z",
     "start_time": "2020-04-25T11:49:39.324639Z"
    }
   },
   "outputs": [
    {
     "name": "stdout",
     "output_type": "stream",
     "text": [
      "1\n",
      "1\n",
      "4\n"
     ]
    }
   ],
   "source": [
    "for i in square(fib(3)) :\n",
    "    print (i)"
   ]
  },
  {
   "cell_type": "code",
   "execution_count": null,
   "metadata": {},
   "outputs": [],
   "source": []
  }
 ],
 "metadata": {
  "kernelspec": {
   "display_name": "Python 3",
   "language": "python",
   "name": "python3"
  },
  "language_info": {
   "codemirror_mode": {
    "name": "ipython",
    "version": 3
   },
   "file_extension": ".py",
   "mimetype": "text/x-python",
   "name": "python",
   "nbconvert_exporter": "python",
   "pygments_lexer": "ipython3",
   "version": "3.7.4"
  },
  "toc": {
   "base_numbering": 1,
   "nav_menu": {},
   "number_sections": true,
   "sideBar": true,
   "skip_h1_title": false,
   "title_cell": "Table of Contents",
   "title_sidebar": "Contents",
   "toc_cell": false,
   "toc_position": {},
   "toc_section_display": true,
   "toc_window_display": true
  },
  "varInspector": {
   "cols": {
    "lenName": 16,
    "lenType": 16,
    "lenVar": 40
   },
   "kernels_config": {
    "python": {
     "delete_cmd_postfix": "",
     "delete_cmd_prefix": "del ",
     "library": "var_list.py",
     "varRefreshCmd": "print(var_dic_list())"
    },
    "r": {
     "delete_cmd_postfix": ") ",
     "delete_cmd_prefix": "rm(",
     "library": "var_list.r",
     "varRefreshCmd": "cat(var_dic_list()) "
    }
   },
   "types_to_exclude": [
    "module",
    "function",
    "builtin_function_or_method",
    "instance",
    "_Feature"
   ],
   "window_display": false
  }
 },
 "nbformat": 4,
 "nbformat_minor": 2
}
